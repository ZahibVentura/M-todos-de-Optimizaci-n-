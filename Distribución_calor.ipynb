{
  "nbformat": 4,
  "nbformat_minor": 0,
  "metadata": {
    "colab": {
      "provenance": [],
      "authorship_tag": "ABX9TyMfni7CGyK9fVmQKhIVwDn8",
      "include_colab_link": true
    },
    "kernelspec": {
      "name": "python3",
      "display_name": "Python 3"
    },
    "language_info": {
      "name": "python"
    }
  },
  "cells": [
    {
      "cell_type": "markdown",
      "metadata": {
        "id": "view-in-github",
        "colab_type": "text"
      },
      "source": [
        "<a href=\"https://colab.research.google.com/github/ZahibVentura/M-todos-de-Optimizaci-n-/blob/main/Distribuci%C3%B3n_calor.ipynb\" target=\"_parent\"><img src=\"https://colab.research.google.com/assets/colab-badge.svg\" alt=\"Open In Colab\"/></a>"
      ]
    },
    {
      "cell_type": "code",
      "execution_count": 31,
      "metadata": {
        "id": "zZp4XI9H68P8"
      },
      "outputs": [],
      "source": [
        "import random as rd\n",
        "import numpy as np\n",
        "import matplotlib.pyplot as plt\n",
        "from matplotlib import colors as mcolors"
      ]
    },
    {
      "cell_type": "code",
      "source": [
        "n1,m1 = 15,15\n",
        "n,m = n1+2,m1+2\n",
        "matriz = np.zeros((n,m))\n",
        "Matriz = np.zeros((n1,m1))"
      ],
      "metadata": {
        "id": "3F3KLH4t7CID"
      },
      "execution_count": 32,
      "outputs": []
    },
    {
      "cell_type": "code",
      "source": [
        "\n",
        "N = 10000 #No. iteraciones\n",
        "lista_prom = []\n",
        "# Bucle principal\n",
        "for i in range(1,n-1):\n",
        "  for j in range(1,m-1):\n",
        "    suma = 0\n",
        "    for k in range(N):\n",
        "      f, l = i,j #Guardar el punto de partida o donde nos encontramos\n",
        "      while True:\n",
        "          contador = 0\n",
        "          # Generar número aleatorio para decidir donde movernos\n",
        "          n_aleatorio = rd.uniform(0, 1)\n",
        "          #Movernos de la posicion de donde nos encontramos\n",
        "          if n_aleatorio <= 0.25 and f > 0:   #avanzar a la izquierda\n",
        "              f -= 1\n",
        "          elif 0.25 < n_aleatorio <= 0.5 and l > 0:  #avanzar arriba\n",
        "              l -= 1\n",
        "          elif 0.5 < n_aleatorio <= 0.75 and f < m : #avanzar a la derecha\n",
        "              f += 1\n",
        "          elif 0.75 < n_aleatorio and l < n: #avanzar abajo\n",
        "              l += 1\n",
        "\n",
        "          # Actualizar contador según las condiciones en los bordes\n",
        "          if l == 0:  # Izquierda\n",
        "              contador += 100\n",
        "              break\n",
        "          elif l == n:  # Derecha\n",
        "              contador += 60\n",
        "              break\n",
        "          elif f == 0:  # Arriba\n",
        "              contador += 80\n",
        "              break\n",
        "          elif f == m :  # Abajo\n",
        "              contador += 40\n",
        "              break\n",
        "      suma = suma + contador\n",
        "      if i == 1 and j == 8:\n",
        "        prom = suma/(k+1)\n",
        "        lista_prom.append(prom)\n",
        "\n",
        "\n",
        "\n",
        "\n",
        "\n",
        "    # Registrar posición en la matriz\n",
        "    matriz[i][j] = suma/N\n",
        "\n",
        "\n",
        "print(matriz)"
      ],
      "metadata": {
        "colab": {
          "base_uri": "https://localhost:8080/"
        },
        "id": "YiMa1kvaOVcj",
        "outputId": "961e52d2-7c99-468d-96b6-7cd4eb107237"
      },
      "execution_count": 37,
      "outputs": [
        {
          "output_type": "stream",
          "name": "stdout",
          "text": [
            "[[ 0.     0.     0.     0.     0.     0.     0.     0.     0.     0.\n",
            "   0.     0.     0.     0.     0.     0.     0.   ]\n",
            " [ 0.    89.846 85.44  83.442 82.082 80.9   80.404 79.842 79.48  78.942\n",
            "  78.56  78.116 77.568 76.97  75.83  73.966  0.   ]\n",
            " [ 0.    93.134 88.722 85.858 83.504 82.054 80.78  79.628 78.834 77.958\n",
            "  76.99  76.352 75.486 73.964 72.432 69.93   0.   ]\n",
            " [ 0.    95.    90.658 87.102 84.582 82.508 80.746 79.5   78.096 77.272\n",
            "  75.846 74.626 73.458 72.09  70.134 67.528  0.   ]\n",
            " [ 0.    95.616 91.36  88.132 85.252 82.564 80.68  78.582 76.752 75.86\n",
            "  74.332 73.362 71.522 69.808 68.082 65.846  0.   ]\n",
            " [ 0.    95.97  91.942 88.52  84.978 82.324 79.864 78.306 76.012 74.692\n",
            "  73.096 71.472 69.972 68.464 66.698 64.87   0.   ]\n",
            " [ 0.    95.936 91.794 88.408 84.91  82.086 78.794 77.304 74.852 73.216\n",
            "  71.782 69.808 68.626 66.88  65.328 63.84   0.   ]\n",
            " [ 0.    95.794 91.446 87.646 84.69  80.622 77.884 75.988 74.152 71.796\n",
            "  69.81  68.614 67.058 65.804 64.166 62.856  0.   ]\n",
            " [ 0.    95.442 91.018 86.476 83.606 79.84  76.322 74.2   72.022 69.848\n",
            "  67.918 66.882 65.504 64.478 63.59  62.226  0.   ]\n",
            " [ 0.    95.104 90.364 85.916 81.844 78.01  75.178 72.338 69.816 67.966\n",
            "  66.446 65.132 63.666 62.958 61.942 61.122  0.   ]\n",
            " [ 0.    94.426 89.124 83.752 79.82  75.25  72.598 70.306 68.034 65.734\n",
            "  64.282 62.846 62.268 61.34  60.834 60.29   0.   ]\n",
            " [ 0.    93.608 87.322 82.002 77.304 72.728 70.004 67.312 65.384 62.928\n",
            "  61.84  60.876 60.298 59.414 59.438 59.258  0.   ]\n",
            " [ 0.    92.622 84.986 79.002 73.844 69.724 66.872 63.986 61.836 60.548\n",
            "  59.084 57.914 57.578 57.392 57.414 58.036  0.   ]\n",
            " [ 0.    90.808 81.898 75.992 69.622 65.87  62.668 59.648 58.512 56.35\n",
            "  55.986 54.792 54.664 54.896 55.346 56.342  0.   ]\n",
            " [ 0.    87.586 77.258 69.826 64.556 60.802 58.218 55.896 54.208 52.768\n",
            "  52.116 51.652 51.56  51.71  52.674 54.432  0.   ]\n",
            " [ 0.    81.598 70.092 62.754 57.674 54.718 52.418 50.996 49.834 49.142\n",
            "  48.616 48.06  48.3   48.45  49.604 51.158  0.   ]\n",
            " [ 0.     0.     0.     0.     0.     0.     0.     0.     0.     0.\n",
            "   0.     0.     0.     0.     0.     0.     0.   ]]\n"
          ]
        }
      ]
    },
    {
      "cell_type": "code",
      "source": [
        "\"\"\"media = np.mean(lista_prom)\n",
        "\n",
        "plt.plot(lista_prom,color = 'green')\n",
        "plt.hlines(media,color = 'r', linestyles = 'dotted')\n",
        "plt.show()\"\"\"\n",
        "\n",
        "media = np.mean(lista_prom)\n",
        "limite = np.std(lista_prom)\n",
        "#print(media, limite)\n",
        "# Graficar\n",
        "plt.plot(lista_prom,color='green', label='Valores')\n",
        "plt.hlines(media, xmin=0, xmax=len(lista_prom)-1, color='r', linestyle='dotted', label='Media')\n",
        "#plt.hlines(media+limite, xmin=0, xmax=len(lista_prom)-1, color='k', linestyle='dashed', label='Limite superior')\n",
        "#plt.hlines(media-limite, xmin=0, xmax=len(lista_prom)-1, color='k', linestyle='dashed', label='Limite inferior')\n",
        "plt.legend()  # Agrega una leyenda opcional\n",
        "plt.show()\n"
      ],
      "metadata": {
        "colab": {
          "base_uri": "https://localhost:8080/",
          "height": 430
        },
        "id": "Tf20jVLFqhUD",
        "outputId": "4e901c9b-a818-4b90-ab73-b89ec83803d8"
      },
      "execution_count": 38,
      "outputs": [
        {
          "output_type": "display_data",
          "data": {
            "text/plain": [
              "<Figure size 640x480 with 1 Axes>"
            ],
            "image/png": "[encoded data removed]"
          },
          "metadata": {}
        }
      ]
    },
    {
      "cell_type": "code",
      "source": [
        "Matriz = matriz[1:-1, 1:-1]\n",
        "print(Matriz)"
      ],
      "metadata": {
        "colab": {
          "base_uri": "https://localhost:8080/"
        },
        "id": "WdZevmCZn_56",
        "outputId": "3a2bd2ea-f6b8-4713-c50f-faf88097ef79"
      },
      "execution_count": 51,
      "outputs": [
        {
          "output_type": "stream",
          "name": "stdout",
          "text": [
            "[[89.846 85.44  83.442 82.082 80.9   80.404 79.842 79.48  78.942 78.56\n",
            "  78.116 77.568 76.97  75.83  73.966]\n",
            " [93.134 88.722 85.858 83.504 82.054 80.78  79.628 78.834 77.958 76.99\n",
            "  76.352 75.486 73.964 72.432 69.93 ]\n",
            " [95.    90.658 87.102 84.582 82.508 80.746 79.5   78.096 77.272 75.846\n",
            "  74.626 73.458 72.09  70.134 67.528]\n",
            " [95.616 91.36  88.132 85.252 82.564 80.68  78.582 76.752 75.86  74.332\n",
            "  73.362 71.522 69.808 68.082 65.846]\n",
            " [95.97  91.942 88.52  84.978 82.324 79.864 78.306 76.012 74.692 73.096\n",
            "  71.472 69.972 68.464 66.698 64.87 ]\n",
            " [95.936 91.794 88.408 84.91  82.086 78.794 77.304 74.852 73.216 71.782\n",
            "  69.808 68.626 66.88  65.328 63.84 ]\n",
            " [95.794 91.446 87.646 84.69  80.622 77.884 75.988 74.152 71.796 69.81\n",
            "  68.614 67.058 65.804 64.166 62.856]\n",
            " [95.442 91.018 86.476 83.606 79.84  76.322 74.2   72.022 69.848 67.918\n",
            "  66.882 65.504 64.478 63.59  62.226]\n",
            " [95.104 90.364 85.916 81.844 78.01  75.178 72.338 69.816 67.966 66.446\n",
            "  65.132 63.666 62.958 61.942 61.122]\n",
            " [94.426 89.124 83.752 79.82  75.25  72.598 70.306 68.034 65.734 64.282\n",
            "  62.846 62.268 61.34  60.834 60.29 ]\n",
            " [93.608 87.322 82.002 77.304 72.728 70.004 67.312 65.384 62.928 61.84\n",
            "  60.876 60.298 59.414 59.438 59.258]\n",
            " [92.622 84.986 79.002 73.844 69.724 66.872 63.986 61.836 60.548 59.084\n",
            "  57.914 57.578 57.392 57.414 58.036]\n",
            " [90.808 81.898 75.992 69.622 65.87  62.668 59.648 58.512 56.35  55.986\n",
            "  54.792 54.664 54.896 55.346 56.342]\n",
            " [87.586 77.258 69.826 64.556 60.802 58.218 55.896 54.208 52.768 52.116\n",
            "  51.652 51.56  51.71  52.674 54.432]\n",
            " [81.598 70.092 62.754 57.674 54.718 52.418 50.996 49.834 49.142 48.616\n",
            "  48.06  48.3   48.45  49.604 51.158]]\n"
          ]
        }
      ]
    },
    {
      "cell_type": "code",
      "source": [
        "\n",
        "Matriz = Matriz[1:-1, 1:-1]\n",
        "\n",
        "# Configuración del mapa de colores\n",
        "cmap = mcolors.ListedColormap([\n",
        "    'red', 'orangered', 'orange', 'gold', 'yellow', 'greenyellow',\n",
        "    'yellowgreen','limegreen', 'forestgreen', 'green'])\n",
        "bounds = [100, 95, 90, 85, 80, 75, 70, 65, 60, 55, 50]  # Límites definidos para las clases\n",
        "norm = mcolors.BoundaryNorm(bounds, cmap.N)\n",
        "\n",
        "# Visualización de la matriz con el mapa de calor\n",
        "plt.figure(figsize=(6, 6))\n",
        "plt.imshow(Matriz, cmap=cmap, norm=norm)\n",
        "plt.colorbar(label=\"Temperatura\", ticks=bounds)\n",
        "plt.title(\"Distribución de calor\")\n",
        "plt.axis('off')\n",
        "plt.show()\n"
      ],
      "metadata": {
        "colab": {
          "base_uri": "https://localhost:8080/",
          "height": 916
        },
        "id": "cmt6dZ3vmkB6",
        "outputId": "6df6fb44-e67b-424b-84ef-9ee66105c5b2"
      },
      "execution_count": 52,
      "outputs": [
        {
          "output_type": "stream",
          "name": "stderr",
          "text": [
            "WARNING:matplotlib.text:posx and posy should be finite values\n",
            "WARNING:matplotlib.text:posx and posy should be finite values\n",
            "WARNING:matplotlib.text:posx and posy should be finite values\n",
            "WARNING:matplotlib.text:posx and posy should be finite values\n",
            "WARNING:matplotlib.text:posx and posy should be finite values\n",
            "WARNING:matplotlib.text:posx and posy should be finite values\n",
            "WARNING:matplotlib.text:posx and posy should be finite values\n",
            "WARNING:matplotlib.text:posx and posy should be finite values\n",
            "WARNING:matplotlib.text:posx and posy should be finite values\n",
            "WARNING:matplotlib.text:posx and posy should be finite values\n",
            "WARNING:matplotlib.text:posx and posy should be finite values\n",
            "WARNING:matplotlib.text:posx and posy should be finite values\n",
            "WARNING:matplotlib.text:posx and posy should be finite values\n",
            "WARNING:matplotlib.text:posx and posy should be finite values\n",
            "WARNING:matplotlib.text:posx and posy should be finite values\n",
            "WARNING:matplotlib.text:posx and posy should be finite values\n",
            "WARNING:matplotlib.text:posx and posy should be finite values\n",
            "WARNING:matplotlib.text:posx and posy should be finite values\n",
            "WARNING:matplotlib.text:posx and posy should be finite values\n",
            "WARNING:matplotlib.text:posx and posy should be finite values\n",
            "WARNING:matplotlib.text:posx and posy should be finite values\n",
            "WARNING:matplotlib.text:posx and posy should be finite values\n",
            "WARNING:matplotlib.text:posx and posy should be finite values\n",
            "WARNING:matplotlib.text:posx and posy should be finite values\n"
          ]
        },
        {
          "output_type": "display_data",
          "data": {
            "text/plain": [
              "<Figure size 600x600 with 2 Axes>"
            ],
            "image/png": "[encoded data removed]"
          },
          "metadata": {}
        }
      ]
    }
  ]
}