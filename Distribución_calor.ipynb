{
  "nbformat": 4,
  "nbformat_minor": 0,
  "metadata": {
    "colab": {
      "provenance": [],
      "authorship_tag": "ABX9TyMC61BFgeJ8YkstsVkMNa6p",
      "include_colab_link": true
    },
    "kernelspec": {
      "name": "python3",
      "display_name": "Python 3"
    },
    "language_info": {
      "name": "python"
    }
  },
  "cells": [
    {
      "cell_type": "markdown",
      "metadata": {
        "id": "view-in-github",
        "colab_type": "text"
      },
      "source": [
        "<a href=\"https://colab.research.google.com/github/ZahibVentura/M-todos-de-Optimizaci-n-/blob/main/Distribuci%C3%B3n_calor.ipynb\" target=\"_parent\"><img src=\"https://colab.research.google.com/assets/colab-badge.svg\" alt=\"Open In Colab\"/></a>"
      ]
    },
    {
      "cell_type": "code",
      "execution_count": 29,
      "metadata": {
        "id": "zZp4XI9H68P8"
      },
      "outputs": [],
      "source": [
        "import random as rd\n",
        "import numpy as np"
      ]
    },
    {
      "cell_type": "code",
      "source": [
        "n1,m1 = 7,5\n",
        "n,m = n1+2,m1+7\n",
        "matriz = np.zeros((n,m))\n",
        "Matriz = np.zeros((n1,m1))"
      ],
      "metadata": {
        "id": "3F3KLH4t7CID"
      },
      "execution_count": 30,
      "outputs": []
    },
    {
      "cell_type": "code",
      "source": [
        "\n",
        "N = 10000 #No. iteraciones\n",
        "# Bucle principal\n",
        "for i in range(1,n-1):\n",
        "  for j in range(1,m-1):\n",
        "    suma = 0\n",
        "    for k in range(N):\n",
        "      f, l = i,j #Guardar el punto de partida o donde nos encontramos\n",
        "      while True:\n",
        "          contador = 0\n",
        "          # Generar número aleatorio\n",
        "          n_aleatorio = rd.uniform(0, 1)\n",
        "          #Movernos de la posicion de donde nos encontramos\n",
        "          if n_aleatorio <= 0.25 and f > 0:   #avanzar a la izquierda\n",
        "              f -= 1\n",
        "          elif 0.25 < n_aleatorio <= 0.5 and l > 0:  #avanzar arriba\n",
        "              l -= 1\n",
        "          elif 0.5 < n_aleatorio <= 0.75 and f < m : #avanzar a la derecha\n",
        "              f += 1\n",
        "          elif 0.75 < n_aleatorio and l < n: #avanzar abajo\n",
        "              l += 1\n",
        "\n",
        "          # Actualizar contador según las condiciones en los bordes\n",
        "          if l == 0:  # Izquierda\n",
        "              contador += 100\n",
        "              break\n",
        "          elif l == n:  # Derecha\n",
        "              contador += 60\n",
        "              break\n",
        "          elif f == 0:  # Arriba\n",
        "              contador += 80\n",
        "              break\n",
        "          elif f == m :  # Abajo\n",
        "              contador += 40\n",
        "              break\n",
        "      suma = suma + contador\n",
        "\n",
        "\n",
        "\n",
        "    # Registrar posición en la matriz\n",
        "    matriz[i][j] = suma/N\n",
        "\n",
        "\n",
        "print(matriz)"
      ],
      "metadata": {
        "colab": {
          "base_uri": "https://localhost:8080/"
        },
        "id": "YiMa1kvaOVcj",
        "outputId": "e0f6b94a-9363-46c0-e33c-bac5191bce7b"
      },
      "execution_count": 31,
      "outputs": [
        {
          "output_type": "stream",
          "name": "stdout",
          "text": [
            "[[ 0.     0.     0.     0.     0.     0.     0.     0.     0.     0.\n",
            "   0.     0.   ]\n",
            " [ 0.    89.316 84.582 82.074 80.344 78.67  77.014 74.642 70.486 62.56\n",
            "  67.58   0.   ]\n",
            " [ 0.    92.574 87.006 83.442 80.256 77.69  74.678 71.808 66.674 61.676\n",
            "  63.022  0.   ]\n",
            " [ 0.    93.61  87.98  83.706 79.95  76.53  72.776 69.148 65.008 61.16\n",
            "  61.084  0.   ]\n",
            " [ 0.    93.974 88.202 83.304 79.102 75.176 71.436 67.938 63.964 60.97\n",
            "  60.424  0.   ]\n",
            " [ 0.    93.588 87.82  82.394 77.748 73.582 70.276 66.844 63.298 60.912\n",
            "  60.148  0.   ]\n",
            " [ 0.    92.948 86.702 80.75  75.666 71.886 68.344 65.41  62.856 60.72\n",
            "  59.988  0.   ]\n",
            " [ 0.    91.966 84.742 78.316 73.162 69.696 66.152 63.49  61.764 60.396\n",
            "  59.874  0.   ]\n",
            " [ 0.     0.     0.     0.     0.     0.     0.     0.     0.     0.\n",
            "   0.     0.   ]]\n"
          ]
        }
      ]
    }
  ]
}