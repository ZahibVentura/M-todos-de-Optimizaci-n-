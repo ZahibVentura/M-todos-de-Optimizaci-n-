{
  "nbformat": 4,
  "nbformat_minor": 0,
  "metadata": {
    "colab": {
      "provenance": [],
      "authorship_tag": "ABX9TyMC61BFgeJ8YkstsVkMNa6p",
      "include_colab_link": true
    },
    "kernelspec": {
      "name": "python3",
      "display_name": "Python 3"
    },
    "language_info": {
      "name": "python"
    }
  },
  "cells": [
    {
      "cell_type": "markdown",
      "metadata": {
        "id": "view-in-github",
        "colab_type": "text"
      },
      "source": [
        "<a href=\"https://colab.research.google.com/github/ZahibVentura/M-todos-de-Optimizaci-n-/blob/main/Distribuci%C3%B3n_calor.ipynb\" target=\"_parent\"><img src=\"https://colab.research.google.com/assets/colab-badge.svg\" alt=\"Open In Colab\"/></a>"
      ]
    },
    {
      "cell_type": "code",
      "execution_count": 1,
      "metadata": {
        "id": "zZp4XI9H68P8"
      },
      "outputs": [],
      "source": [
        "import random as rd\n",
        "import numpy as np"
      ]
    },
    {
      "cell_type": "code",
      "source": [
        "n1,m1 = 7,5\n",
        "n,m = n1+2,m1+7\n",
        "matriz = np.zeros((n,m))\n",
        "Matriz = np.zeros((n1,m1))"
      ],
      "metadata": {
        "id": "3F3KLH4t7CID"
      },
      "execution_count": 26,
      "outputs": []
    },
    {
      "cell_type": "code",
      "source": [
        "\n",
        "N = 10000 #No. iteraciones\n",
        "# Bucle principal\n",
        "for i in range(1,n-1):\n",
        "  for j in range(1,m-1):\n",
        "    suma = 0\n",
        "    for k in range(N):\n",
        "      f, l = i,j #Guardar el punto de partida o donde nos encontramos\n",
        "      while True:\n",
        "          contador = 0\n",
        "          # Generar número aleatorio\n",
        "          n_aleatorio = rd.uniform(0, 1)\n",
        "          #Movernos de la posicion de donde nos encontramos\n",
        "          if n_aleatorio <= 0.25 and f > 0:   #avanzar a la izquierda\n",
        "              f -= 1\n",
        "          elif 0.25 < n_aleatorio <= 0.5 and l > 0:  #avanzar arriba\n",
        "              l -= 1\n",
        "          elif 0.5 < n_aleatorio <= 0.75 and f < m : #avanzar a la derecha\n",
        "              f += 1\n",
        "          elif 0.75 < n_aleatorio and l < n: #avanzar abajo\n",
        "              l += 1\n",
        "\n",
        "          # Actualizar contador según las condiciones en los bordes\n",
        "          if l == 0:  # Izquierda\n",
        "              contador += 100\n",
        "              break\n",
        "          elif l == n:  # Derecha\n",
        "              contador += 60\n",
        "              break\n",
        "          elif f == 0:  # Arriba\n",
        "              contador += 80\n",
        "              break\n",
        "          elif f == m :  # Abajo\n",
        "              contador += 40\n",
        "              break\n",
        "      suma = suma + contador\n",
        "\n",
        "\n",
        "\n",
        "    # Registrar posición en la matriz\n",
        "    matriz[i][j] = suma/N\n",
        "\n",
        "\n",
        "print(matriz)"
      ],
      "metadata": {
        "colab": {
          "base_uri": "https://localhost:8080/"
        },
        "id": "YiMa1kvaOVcj",
        "outputId": "87efab41-72e3-49c8-ffdb-0a31f537c96f"
      },
      "execution_count": 28,
      "outputs": [
        {
          "output_type": "stream",
          "name": "stdout",
          "text": [
            "[[ 0.     0.     0.     0.     0.     0.     0.     0.     0.     0.\n",
            "   0.     0.   ]\n",
            " [ 0.    89.302 84.642 82.034 80.232 78.662 77.102 74.808 70.182 62.692\n",
            "  67.598  0.   ]\n",
            " [ 0.    92.592 87.156 83.286 80.02  77.156 74.344 71.42  66.482 61.752\n",
            "  62.872  0.   ]\n",
            " [ 0.    93.734 88.246 83.646 79.958 76.112 72.756 69.428 64.932 61.15\n",
            "  61.12   0.   ]\n",
            " [ 0.    94.022 88.248 83.664 78.636 74.92  71.424 67.846 64.136 60.994\n",
            "  60.374  0.   ]\n",
            " [ 0.    93.782 87.622 82.572 78.13  73.624 70.104 66.562 63.55  60.796\n",
            "  60.134  0.   ]\n",
            " [ 0.    93.068 86.546 80.632 76.212 71.892 68.32  65.38  62.608 60.66\n",
            "  60.008  0.   ]\n",
            " [ 0.    92.164 84.64  78.784 73.728 69.5   66.056 63.498 61.604 60.4\n",
            "  59.848  0.   ]\n",
            " [ 0.     0.     0.     0.     0.     0.     0.     0.     0.     0.\n",
            "   0.     0.   ]]\n"
          ]
        }
      ]
    }
  ]
}