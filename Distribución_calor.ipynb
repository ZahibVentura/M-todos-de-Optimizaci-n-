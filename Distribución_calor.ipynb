{
  "nbformat": 4,
  "nbformat_minor": 0,
  "metadata": {
    "colab": {
      "provenance": [],
      "authorship_tag": "ABX9TyO/prkWNWZ2sw8NPNbYF40D",
      "include_colab_link": true
    },
    "kernelspec": {
      "name": "python3",
      "display_name": "Python 3"
    },
    "language_info": {
      "name": "python"
    }
  },
  "cells": [
    {
      "cell_type": "markdown",
      "metadata": {
        "id": "view-in-github",
        "colab_type": "text"
      },
      "source": [
        "<a href=\"https://colab.research.google.com/github/ZahibVentura/M-todos-de-Optimizaci-n-/blob/main/Distribuci%C3%B3n_calor.ipynb\" target=\"_parent\"><img src=\"https://colab.research.google.com/assets/colab-badge.svg\" alt=\"Open In Colab\"/></a>"
      ]
    },
    {
      "cell_type": "code",
      "execution_count": 2,
      "metadata": {
        "id": "zZp4XI9H68P8"
      },
      "outputs": [],
      "source": [
        "import random as rd\n",
        "import numpy as np"
      ]
    },
    {
      "cell_type": "code",
      "source": [
        "n1,m1 = 7,7\n",
        "n,m = n1+2,m1+2\n",
        "matriz = np.zeros((n,m))\n",
        "Matriz = np.zeros((n1,m1))"
      ],
      "metadata": {
        "id": "3F3KLH4t7CID"
      },
      "execution_count": 13,
      "outputs": []
    },
    {
      "cell_type": "code",
      "source": [
        "\n",
        "N = 10000 #No. iteraciones\n",
        "# Bucle principal\n",
        "for i in range(1,n-1):\n",
        "  for j in range(1,m-1):\n",
        "    suma = 0\n",
        "    for k in range(N):\n",
        "      f, l = i,j #Guardar el punto de partida o donde nos encontramos\n",
        "      while True:\n",
        "          contador = 0\n",
        "          # Generar número aleatorio\n",
        "          n_aleatorio = rd.uniform(0, 1)\n",
        "          #Movernos de la posicion de donde nos encontramos\n",
        "          if n_aleatorio <= 0.25 and f > 0:   #avanzar a la izquierda\n",
        "              f -= 1\n",
        "          elif 0.25 < n_aleatorio <= 0.5 and l > 0:  #avanzar arriba\n",
        "              l -= 1\n",
        "          elif 0.5 < n_aleatorio <= 0.75 and f < m : #avanzar a la derecha\n",
        "              f += 1\n",
        "          elif 0.75 < n_aleatorio and l < n: #avanzar abajo\n",
        "              l += 1\n",
        "\n",
        "          # Actualizar contador según las condiciones en los bordes\n",
        "          if l == 0:  # Izquierda\n",
        "              contador += 100\n",
        "              break\n",
        "          elif l == n:  # Derecha\n",
        "              contador += 60\n",
        "              break\n",
        "          elif f == 0:  # Arriba\n",
        "              contador += 80\n",
        "              break\n",
        "          elif f == m :  # Abajo\n",
        "              contador += 40\n",
        "              break\n",
        "      suma = suma + contador\n",
        "\n",
        "\n",
        "\n",
        "    # Registrar posición en la matriz\n",
        "    matriz[i][j] = suma/N\n",
        "\n",
        "\n",
        "print(matriz)"
      ],
      "metadata": {
        "colab": {
          "base_uri": "https://localhost:8080/"
        },
        "id": "YiMa1kvaOVcj",
        "outputId": "4f9495ac-363c-43c9-d126-869b827e5f6d"
      },
      "execution_count": 14,
      "outputs": [
        {
          "output_type": "stream",
          "name": "stdout",
          "text": [
            "[[ 0.     0.     0.     0.     0.     0.     0.     0.     0.   ]\n",
            " [ 0.    88.926 83.82  80.97  79.51  77.614 76.142 73.97   0.   ]\n",
            " [ 0.    91.65  85.734 81.02  77.858 75.292 72.942 69.844  0.   ]\n",
            " [ 0.    92.226 85.464 80.13  76.018 72.968 69.992 67.302  0.   ]\n",
            " [ 0.    92.17  84.608 78.494 73.652 70.386 67.158 64.628  0.   ]\n",
            " [ 0.    90.076 81.402 74.95  69.812 66.406 64.04  62.002  0.   ]\n",
            " [ 0.    87.136 77.246 69.816 65.702 61.75  59.732 58.606  0.   ]\n",
            " [ 0.    81.796 69.986 63.312 57.956 55.83  54.682 54.242  0.   ]\n",
            " [ 0.     0.     0.     0.     0.     0.     0.     0.     0.   ]]\n"
          ]
        }
      ]
    }
  ]
}