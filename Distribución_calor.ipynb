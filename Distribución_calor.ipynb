{
  "nbformat": 4,
  "nbformat_minor": 0,
  "metadata": {
    "colab": {
      "provenance": [],
      "authorship_tag": "ABX9TyPPJSqFxdZ3d+QhmXTNbIUa",
      "include_colab_link": true
    },
    "kernelspec": {
      "name": "python3",
      "display_name": "Python 3"
    },
    "language_info": {
      "name": "python"
    }
  },
  "cells": [
    {
      "cell_type": "markdown",
      "metadata": {
        "id": "view-in-github",
        "colab_type": "text"
      },
      "source": [
        "<a href=\"https://colab.research.google.com/github/ZahibVentura/M-todos-de-Optimizaci-n-/blob/main/Distribuci%C3%B3n_calor.ipynb\" target=\"_parent\"><img src=\"https://colab.research.google.com/assets/colab-badge.svg\" alt=\"Open In Colab\"/></a>"
      ]
    },
    {
      "cell_type": "code",
      "execution_count": 2,
      "metadata": {
        "id": "zZp4XI9H68P8"
      },
      "outputs": [],
      "source": [
        "import random as rd\n",
        "import numpy as np"
      ]
    },
    {
      "cell_type": "code",
      "source": [
        "n1,m1 = 8,8\n",
        "n,m = n1+2,m1+2\n",
        "matriz = np.zeros((n,m))\n",
        "Matriz = np.zeros((n1,m1))"
      ],
      "metadata": {
        "id": "3F3KLH4t7CID"
      },
      "execution_count": 17,
      "outputs": []
    },
    {
      "cell_type": "code",
      "source": [
        "\n",
        "N = 10000 #No. iteraciones\n",
        "# Bucle principal\n",
        "for i in range(1,n-1):\n",
        "  for j in range(1,m-1):\n",
        "    suma = 0\n",
        "    for k in range(N):\n",
        "      f, l = i,j #Guardar el punto de partida o donde nos encontramos\n",
        "      while True:\n",
        "          contador = 0\n",
        "          # Generar número aleatorio\n",
        "          n_aleatorio = rd.uniform(0, 1)\n",
        "          #Movernos de la posicion de donde nos encontramos\n",
        "          if n_aleatorio <= 0.25 and f > 0:   #avanzar a la izquierda\n",
        "              f -= 1\n",
        "          elif 0.25 < n_aleatorio <= 0.5 and l > 0:  #avanzar arriba\n",
        "              l -= 1\n",
        "          elif 0.5 < n_aleatorio <= 0.75 and f < m : #avanzar a la derecha\n",
        "              f += 1\n",
        "          elif 0.75 < n_aleatorio and l < n: #avanzar abajo\n",
        "              l += 1\n",
        "\n",
        "          # Actualizar contador según las condiciones en los bordes\n",
        "          if l == 0:  # Izquierda\n",
        "              contador += 100\n",
        "              break\n",
        "          elif l == n:  # Derecha\n",
        "              contador += 60\n",
        "              break\n",
        "          elif f == 0:  # Arriba\n",
        "              contador += 80\n",
        "              break\n",
        "          elif f == m :  # Abajo\n",
        "              contador += 40\n",
        "              break\n",
        "      suma = suma + contador\n",
        "\n",
        "\n",
        "\n",
        "    # Registrar posición en la matriz\n",
        "    matriz[i][j] = suma/N\n",
        "\n",
        "\n",
        "print(matriz)"
      ],
      "metadata": {
        "colab": {
          "base_uri": "https://localhost:8080/"
        },
        "id": "YiMa1kvaOVcj",
        "outputId": "e1dc7506-e936-44af-9675-87f083c1f381"
      },
      "execution_count": 20,
      "outputs": [
        {
          "output_type": "stream",
          "name": "stdout",
          "text": [
            "[[ 0.     0.     0.     0.     0.     0.     0.     0.     0.     0.   ]\n",
            " [ 0.    89.038 84.402 81.59  80.076 78.418 77.302 76.038 74.136  0.   ]\n",
            " [ 0.    92.406 86.448 82.392 79.544 76.954 74.962 72.898 70.006  0.   ]\n",
            " [ 0.    92.772 86.748 81.918 78.122 75.652 72.436 69.928 67.454  0.   ]\n",
            " [ 0.    92.886 86.52  80.864 76.736 73.09  69.95  67.258 65.032  0.   ]\n",
            " [ 0.    91.848 84.656 78.364 73.638 70.4   67.312 65.106 62.94   0.   ]\n",
            " [ 0.    90.272 82.274 75.346 70.306 66.272 63.208 61.898 60.526  0.   ]\n",
            " [ 0.    87.418 77.142 70.16  64.886 61.238 59.2   57.626 57.566  0.   ]\n",
            " [ 0.    81.512 69.818 62.64  58.308 54.906 53.724 52.908 53.272  0.   ]\n",
            " [ 0.     0.     0.     0.     0.     0.     0.     0.     0.     0.   ]]\n"
          ]
        }
      ]
    }
  ]
}